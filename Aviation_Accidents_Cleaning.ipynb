{
 "cells": [
  {
   "cell_type": "markdown",
   "id": "d7485d62",
   "metadata": {},
   "source": [
    "# Aviation Accidents Analysis\n",
    "\n",
    "You are part of a consulting firm that is tasked to do an analysis of commercial and passenger jet airline safety. The client (an airline/airplane insurer) is interested in knowing what types of aircraft (makes/models) exhibit low rates of total destruction and low likelihood of fatal or serious passenger injuries in the event of an accident. They are also interested in any general variables/conditions that might be at play. Your analysis will be based off of aviation accident data accumulated from the years 1948-2023. \n",
    "\n",
    "Our client is only interested in airplane makes/models that are professional builds and could potentially still be active. Assume a max lifetime of 40 years for a make/model retirement and make sure to filter your data accordingly (i.e. from 1983 onwards). They would also like separate recommendations for small aircraft vs. larger passenger models. **In addition, make sure that claims that you make are statistically robust and that you have enough samples when making comparisons between groups.**\n",
    "\n",
    "\n",
    "In this summative assessment you will demonstrate your ability to:\n",
    "- **Use Pandas to load, inspect, and clean the dataset appropriately.**\n",
    "- **Transform relevant columns to create measures that address the problem at hand.**\n",
    "- conduct EDA: visualization and statistical measures to systematically understand the structure of the data\n",
    "- recommend a set of airplanes and makes conforming to the client's request and identify at least *two* factors contributing to airplane safety. You must provide supporting evidence (visuals, summary statistics, tables) for each claim you make."
   ]
  },
  {
   "cell_type": "markdown",
   "id": "73e582c5",
   "metadata": {},
   "source": [
    "### Make relevant library imports"
   ]
  },
  {
   "cell_type": "code",
   "execution_count": null,
   "id": "a72188a8",
   "metadata": {},
   "outputs": [],
   "source": [
    "import pandas as pd\n",
    "import numpy as np\n",
    "import matplotlib.pyplot as plt\n",
    "import seaborn as sns"
   ]
  },
  {
   "cell_type": "markdown",
   "id": "5b1fc321",
   "metadata": {},
   "source": [
    "## Data Loading and Inspection"
   ]
  },
  {
   "cell_type": "markdown",
   "id": "57becc28",
   "metadata": {},
   "source": [
    "### Load in data from the relevant directory and inspect the dataframe.\n",
    "- inspect NaNs, datatypes, and summary statistics"
   ]
  },
  {
   "cell_type": "code",
   "execution_count": null,
   "id": "85235fa7",
   "metadata": {},
   "outputs": [],
   "source": [
    "init_aviat_df = pd.read_csv('AviationData.csv', encoding='latin-1', low_memory=False)"
   ]
  },
  {
   "cell_type": "code",
   "execution_count": null,
   "id": "b03dbf4c-81c0-4a9c-8abc-593de136e015",
   "metadata": {},
   "outputs": [],
   "source": [
    "init_aviat_df.head()"
   ]
  },
  {
   "cell_type": "code",
   "execution_count": null,
   "id": "341f2447-ada8-468c-9b57-0fa776b0cfb3",
   "metadata": {},
   "outputs": [],
   "source": [
    "init_aviat_df.info()"
   ]
  },
  {
   "cell_type": "code",
   "execution_count": null,
   "id": "b049447f-d0d6-44a6-a12b-8f0cb452841b",
   "metadata": {},
   "outputs": [],
   "source": [
    "init_aviat_df.describe(include = 'object')"
   ]
  },
  {
   "cell_type": "markdown",
   "id": "2e9b8cc7",
   "metadata": {},
   "source": [
    "## Data Cleaning"
   ]
  },
  {
   "cell_type": "markdown",
   "id": "c23efd78",
   "metadata": {},
   "source": [
    "### Filtering aircrafts and events"
   ]
  },
  {
   "cell_type": "markdown",
   "id": "9c399343",
   "metadata": {},
   "source": [
    "We want to filter the dataset to include aircraft that the client is interested in an analysis of:\n",
    "- inspect relevant columns\n",
    "- figure out any reasonable imputations\n",
    "- filter the dataset"
   ]
  },
  {
   "cell_type": "code",
   "execution_count": null,
   "id": "5a2b7eab",
   "metadata": {},
   "outputs": [],
   "source": [
    "print(init_aviat_df['Aircraft.Category'].isna().sum())\n",
    "print(init_aviat_df['Aircraft.Category'].value_counts())"
   ]
  },
  {
   "cell_type": "code",
   "execution_count": null,
   "id": "2c9b7f15-f90f-4954-a0d1-6a2048ddd184",
   "metadata": {
    "scrolled": true
   },
   "outputs": [],
   "source": [
    "init_aviat_df.head()[['Make', 'Aircraft.Category']]"
   ]
  },
  {
   "cell_type": "code",
   "execution_count": null,
   "id": "b4ae2429-e310-42a7-93c2-7b65f5449b5e",
   "metadata": {
    "scrolled": true
   },
   "outputs": [],
   "source": [
    "init_aviat_df['Aircraft.Category'].fillna('Airplane', inplace = True)\n",
    "init_aviat_df['Aircraft.Category'].value_counts()"
   ]
  },
  {
   "cell_type": "code",
   "execution_count": null,
   "id": "947b0445-b922-4a57-9de1-f4ede41ba9f3",
   "metadata": {},
   "outputs": [],
   "source": [
    "air_df = init_aviat_df[init_aviat_df['Aircraft.Category'] == 'Airplane']\n",
    "air_df.info()"
   ]
  },
  {
   "cell_type": "code",
   "execution_count": null,
   "id": "81edf523-d8ab-42b0-b0b2-b8100aefcfca",
   "metadata": {},
   "outputs": [],
   "source": [
    "air_df['Amateur.Built'].value_counts()"
   ]
  },
  {
   "cell_type": "code",
   "execution_count": null,
   "id": "4131aef6-c07b-4811-9310-3dd01f87c87f",
   "metadata": {},
   "outputs": [],
   "source": [
    "# filter amateur builds\n",
    "air_df = air_df[air_df['Amateur.Built'] == 'No']"
   ]
  },
  {
   "cell_type": "code",
   "execution_count": null,
   "id": "69cde35f-f839-40c4-9d5e-12971ba95108",
   "metadata": {},
   "outputs": [],
   "source": [
    "air_df = air_df.dropna(subset=['Publication.Date']) \n",
    "air_df['Report_Date'] = pd.to_datetime(air_df['Publication.Date']) \n",
    "air_df = air_df.sort_values(by='Report_Date') \n",
    "air_df = air_df[air_df['Report_Date'] > '1983']"
   ]
  },
  {
   "cell_type": "code",
   "execution_count": null,
   "id": "ef28a6d4",
   "metadata": {},
   "outputs": [],
   "source": [
    "air_df.head()"
   ]
  },
  {
   "cell_type": "code",
   "execution_count": null,
   "id": "38f354a1-2f8e-478b-bbb9-4c034ebfd59a",
   "metadata": {},
   "outputs": [],
   "source": [
    "air_df['Report_Date']"
   ]
  },
  {
   "cell_type": "code",
   "execution_count": null,
   "id": "050a1188-78a3-4c21-bcb4-91e0e98121ec",
   "metadata": {},
   "outputs": [],
   "source": [
    "print(air_df['Report_Date'].min(), air_df['Report_Date'].max())"
   ]
  },
  {
   "cell_type": "markdown",
   "id": "36d26002",
   "metadata": {},
   "source": [
    "Why is it only showing a small amount of data from 1983 to 2022? CSV correctly downloaded and showing all dates. "
   ]
  },
  {
   "cell_type": "markdown",
   "id": "d8d10400-04bb-4b35-80ce-5f96ebb2d59a",
   "metadata": {},
   "source": [
    "### Cleaning and constructing Key Measurables\n",
    "\n",
    "Injuries and robustness to destruction are a key interest point for the client. Clean and impute relevant columns and then create derived fields that best quantifies what the client wishes to track. **Use commenting or markdown to explain any cleaning assumptions as well as any derived columns you create.**"
   ]
  },
  {
   "cell_type": "markdown",
   "id": "070b08f8",
   "metadata": {},
   "source": [
    "**Construct metric for fatal/serious injuries**\n",
    "\n",
    "*Hint:* Estimate the total number of passengers on each flight. The likelihood of serious / fatal injury can be estimated as a fraction from this."
   ]
  },
  {
   "cell_type": "code",
   "execution_count": null,
   "id": "70097c51-52ea-40ca-a56d-dbf11b229be0",
   "metadata": {},
   "outputs": [],
   "source": [
    "# identify injury-related columns by searching for 'njur' in the column names\n",
    "# this matches columns like 'Total.Fatal.Injuries', 'Total.Serious.Injuries'\n",
    "# we skip the first match with [1::] assuming the first one may be a duplicate or not relevant for summing\n",
    "injury_col_names = air_df.columns[air_df.columns.str.contains('njur')] #[1::]\n",
    "\n",
    "# display the selected columns to verify they are related to injury counts\n",
    "print(injury_col_names)\n",
    "\n",
    "# count missing (NaN) values in each of the selected injury-related columns\n",
    "# this helps assess how much data cleaning or imputation is needed\n",
    "air_df[injury_col_names].isna().sum()\n",
    "\n"
   ]
  },
  {
   "cell_type": "code",
   "execution_count": null,
   "id": "e8004907-3295-4968-babf-0dfefd371d85",
   "metadata": {},
   "outputs": [],
   "source": [
    "air_df['Injury.Severity'].value_counts()"
   ]
  },
  {
   "cell_type": "code",
   "execution_count": null,
   "id": "91b518b1",
   "metadata": {},
   "outputs": [],
   "source": [
    "# check how many rows have all injury-related columns missing\n",
    "# these rows likely have no usable injury data and may not be useful for injury analysis\n",
    "# rows with no data in any injury columns provide no value for injury metrics and can be removed\n",
    "air_df[injury_col_names].isna().all(axis = 1).sum()\n"
   ]
  },
  {
   "cell_type": "code",
   "execution_count": null,
   "id": "4fa63873-2f11-4556-a92d-bef8d6f1d414",
   "metadata": {},
   "outputs": [],
   "source": [
    "# remove rows where all injury-related columns are missing\n",
    "# rhese rows do not contribute any injury information and would skew injury-related metrics if kept\n",
    "# if there is no injury data at all for an event, it is not useful for severity analysis\n",
    "air_df = air_df[~air_df[injury_col_names].isna().all(axis=1)]"
   ]
  },
  {
   "cell_type": "code",
   "execution_count": null,
   "id": "cd5c8c7b-b66a-4a8f-a4d0-b9a9404d94f3",
   "metadata": {},
   "outputs": [],
   "source": [
    "# after removing fully-empty injury rows, count the remaining missing values in each injury-related column\n",
    "# this helps assess the completeness of injury data and informs whether further imputation or filtering is needed\n",
    "# the remaining missing values might be handled later depending on how critical each injury type is to the analysis\n",
    "air_df[injury_col_names].isna().sum()\n"
   ]
  },
  {
   "cell_type": "code",
   "execution_count": null,
   "id": "4cf8b2b1-50f2-4c40-8aa6-a5251370ef48",
   "metadata": {},
   "outputs": [],
   "source": [
    "# fill missing values in all injury-related columns with 0\n",
    "# if injury data is missing, we assume no injuries were reported\n",
    "air_df.loc[:, injury_col_names] = air_df[injury_col_names].fillna(0)\n",
    "\n",
    "# confirm that there are no more missing values in injury-related columns\n",
    "air_df[injury_col_names].isna().sum()\n"
   ]
  },
  {
   "cell_type": "code",
   "execution_count": null,
   "id": "2306c885-9d30-4b24-9c5e-f638e2a33747",
   "metadata": {},
   "outputs": [],
   "source": [
    "# convert injury columns to numeric, forcing invalid entries to NaN\n",
    "air_df[injury_col_names] = air_df[injury_col_names].apply(pd.to_numeric, errors='coerce')\n",
    "\n",
    "# calculate the total number of passengers involved in the accident\n",
    "air_df['N_passenger'] = air_df[injury_col_names].sum(axis=1)\n",
    "\n",
    "# remove rows with total passengers == 0\n",
    "air_df = air_df[air_df['N_passenger'] > 0]\n",
    "\n",
    "# calculate the serious injury fraction\n",
    "air_df['ser_inj_frac'] = (\n",
    "    air_df['Total.Fatal.Injuries'] + air_df['Total.Serious.Injuries']\n",
    ") / air_df['N_passenger']\n"
   ]
  },
  {
   "cell_type": "code",
   "execution_count": null,
   "id": "a48b0789-dce8-4a05-954c-01ae2529af57",
   "metadata": {},
   "outputs": [],
   "source": [
    "air_df.head()"
   ]
  },
  {
   "cell_type": "markdown",
   "id": "6c89136b",
   "metadata": {},
   "source": [
    "**Aircraft.Damage**\n",
    "- identify and execute any cleaning tasks\n",
    "- construct a derived column tracking whether an aircraft was destroyed or not."
   ]
  },
  {
   "cell_type": "code",
   "execution_count": null,
   "id": "6082a818-c5e3-4540-8bda-018ec057261a",
   "metadata": {},
   "outputs": [],
   "source": [
    "air_df.info()"
   ]
  },
  {
   "cell_type": "code",
   "execution_count": null,
   "id": "cf9005cf",
   "metadata": {},
   "outputs": [],
   "source": [
    "print(air_df['Aircraft.damage'].unique())\n",
    "print(air_df['Aircraft.damage'].value_counts())"
   ]
  },
  {
   "cell_type": "code",
   "execution_count": null,
   "id": "9da8aa7d-e74d-49e2-989a-6d192616a6cb",
   "metadata": {},
   "outputs": [],
   "source": [
    "air_df['Aircraft.damage'] = air_df['Aircraft.damage'].replace({'Unknown': np.nan})\n",
    "air_df.dropna(subset=['Aircraft.damage'], inplace=True)\n",
    "air_df.info()"
   ]
  },
  {
   "cell_type": "code",
   "execution_count": null,
   "id": "c830d419-c7ff-4b50-97e8-74b23992f6a7",
   "metadata": {},
   "outputs": [],
   "source": [
    "# create a new column 'is_destroyed' that flags whether the aircraft was destroyed\n",
    "# this creates a boolean mask where 'Destroyed' = True, then converts it to int (1 for destroyed, 0 otherwise)\n",
    "air_df['is_destroyed'] = (air_df['Aircraft.damage'] == 'Destroyed').astype('int')"
   ]
  },
  {
   "cell_type": "markdown",
   "id": "e9d8af9b",
   "metadata": {},
   "source": [
    "### Investigate the *Make* column\n",
    "- Identify cleaning tasks here\n",
    "- List cleaning tasks clearly in markdown\n",
    "- Execute the cleaning tasks\n",
    "- For your analysis, keep Makes with a reasonable number (you can put the threshold at 50 though lower could work as well)"
   ]
  },
  {
   "cell_type": "code",
   "execution_count": null,
   "id": "6244d99a-6ebf-490c-90b0-317df13722d7",
   "metadata": {},
   "outputs": [],
   "source": [
    "# convert all entries in 'Make' to uppercase\n",
    "# this ensures consistent casing (e.g., 'Cessna' and 'CESSNA' are treated as the same)\n",
    "air_df['Make'] = air_df['Make'].str.upper()\n",
    "\n",
    "# remove leading and trailing whitespace\n",
    "# this cleans up any extra spaces that may have been typed into the original data\n",
    "air_df['Make'] = air_df['Make'].str.strip()\n",
    "\n",
    "# replace ambiguous or missing values like 'UNKNOWN' or empty strings with NaN\n",
    "# these values do not provide useful information and will be removed\n",
    "air_df['Make'] = air_df['Make'].replace({'UNKNOWN': np.nan, '': np.nan})\n",
    "\n",
    "# drop rows where 'Make' is now missing (NaN)\n",
    "# these rows cannot be used for manufacturer-level analysis\n",
    "air_df.dropna(subset=['Make'], inplace=True)\n",
    "\n",
    "# standardize known variations of the same manufacturer\n",
    "# this helps combine entries that should be grouped under one manufacturer\n",
    "air_df['Make'] = air_df['Make'].replace({'CESSNA AIRCRAFT': 'CESSNA','CESSNA AIR': 'CESSNA','PIPER AIRCRAFT': 'PIPER'})\n",
    "\n",
    "# filter to only include makes that appear at least 50 times\n",
    "# this reduces noise from extremely rare or one-off manufacturers\n",
    "make_counts = air_df['Make'].value_counts()\n",
    "common_makes = make_counts[make_counts >= 50].index\n",
    "air_df = air_df[air_df['Make'].isin(common_makes)]\n",
    "\n",
    "air_df['Make'].head()         \n",
    "air_df['Make'].value_counts() "
   ]
  },
  {
   "cell_type": "markdown",
   "id": "6ed9f3c2",
   "metadata": {},
   "source": [
    "### Inspect Model column\n",
    "- Get rid of any NaNs.\n",
    "- Inspect the column and counts for each model/make. Are model labels unique to each make?\n",
    "- If not, create a derived column that is a unique identifier for a given plane type."
   ]
  },
  {
   "cell_type": "code",
   "execution_count": null,
   "id": "05f20594",
   "metadata": {},
   "outputs": [],
   "source": [
    "air_df.dropna(subset=['Model'], inplace=True)\n",
    "\n",
    "# as an example both beech and aero-commander have a model 100\n",
    "air_df.groupby(['Model', 'Make']).count().loc['100']"
   ]
  },
  {
   "cell_type": "code",
   "execution_count": null,
   "id": "01df492e",
   "metadata": {},
   "outputs": [],
   "source": [
    "air_df['make_model'] = air_df['Make'] + '_' + air_df['Model'].str.upper()\n"
   ]
  },
  {
   "cell_type": "code",
   "execution_count": null,
   "id": "40374cae-3465-48bd-92f0-f117432dad1b",
   "metadata": {},
   "outputs": [],
   "source": [
    "air_df.head()"
   ]
  },
  {
   "cell_type": "markdown",
   "id": "9a173ebd",
   "metadata": {},
   "source": [
    "### Cleaning other columns\n",
    "- there are other columns containing data that might be related to the outcome of an accident. We list a few here:\n",
    "- Engine.Type\n",
    "- Weather.Condition\n",
    "- Number.of.Engines\n",
    "- Purpose.of.flight\n",
    "- Broad.phase.of.flight\n",
    "\n",
    "Inspect and identify potential cleaning tasks in each of the above columns. Execute those cleaning tasks. \n",
    "\n",
    "**Note**: You do not necessarily need to impute or drop NaNs here."
   ]
  },
  {
   "cell_type": "code",
   "execution_count": null,
   "id": "2aed2ad9-473a-4d6d-a3cb-83a16880b091",
   "metadata": {},
   "outputs": [],
   "source": [
    "# preview the raw value counts for the 'Engine.Type' column\n",
    "print(air_df['Engine.Type'].value_counts())\n",
    "\n",
    "# replace placeholder or ambiguous values like 'UNKNOWN' or 'UNK' with NaN\n",
    "# this prevents skewing analysis with unclear categories\n",
    "air_df['Engine.Type'].replace({'Unknown': np.nan, 'UNK': np.nan}, inplace=True)\n",
    "\n",
    "# we don't want any unknown categories computed in our statistics\n",
    "# replacing them with NaNs is appropriate and ensures our summaries focus on meaningful values\n",
    "# no need to fill these NaNs unless needed later for modeling\n",
    "\n",
    "# remove engine types that occur only once — they can't support statistical claims\n",
    "filtered_enginetype = air_df['Engine.Type'].value_counts()[air_df['Engine.Type'].value_counts() > 1]\n",
    "air_df = air_df[air_df['Engine.Type'].isin(filtered_enginetype.index)]\n",
    "\n",
    "# show the cleaned value counts for engine types\n",
    "air_df['Engine.Type'].value_counts()"
   ]
  },
  {
   "cell_type": "code",
   "execution_count": null,
   "id": "f661bb21",
   "metadata": {},
   "outputs": [],
   "source": [
    "# print unique values before cleaning to identify unknowns or formatting issues\n",
    "print(air_df['Weather.Condition'].unique())\n",
    "\n",
    "# replace ambiguous 'UNK', 'Unk' with NaN to avoid skewing statistics\n",
    "air_df['Weather.Condition'].replace({'UNK': np.nan, 'Unk': np.nan}, inplace=True)\n",
    "\n",
    "# print value counts to verify successful replacement and inspect distribution\n",
    "print(air_df['Weather.Condition'].value_counts())"
   ]
  },
  {
   "cell_type": "code",
   "execution_count": null,
   "id": "2b12e6bf-7d0d-46d8-8e68-7fa87fd44f30",
   "metadata": {},
   "outputs": [],
   "source": [
    "# print how many times each engine count appears to identify potential issues (e.g., 0 engines)\n",
    "print(air_df['Number.of.Engines'].value_counts())\n",
    "\n",
    "# remove rows where number of engines is zero — likely invalid for flight analysis\n",
    "air_df = air_df[air_df['Number.of.Engines'] > 0.0]\n",
    "\n",
    "# confirm only valid unique values remain after cleaning\n",
    "print(air_df['Number.of.Engines'].unique())"
   ]
  },
  {
   "cell_type": "code",
   "execution_count": null,
   "id": "d59f871f-e8b1-481e-bb67-16c0b682bbbf",
   "metadata": {},
   "outputs": [],
   "source": [
    "# print the unique values in 'Purpose.of.flight' to check for placeholder categories\n",
    "print(air_df['Purpose.of.flight'].unique())\n",
    "\n",
    "# replace 'Unknown' entries with NaN so they don't affect statistical summaries or grouping\n",
    "air_df['Purpose.of.flight'].replace({'Unknown': np.nan}, inplace=True)\n",
    "\n",
    "# recheck unique values to confirm 'Unknown' has been successfully removed\n",
    "print(air_df['Purpose.of.flight'].unique())"
   ]
  },
  {
   "cell_type": "code",
   "execution_count": null,
   "id": "ad7aa442-816b-4d4f-a570-865be12dca50",
   "metadata": {},
   "outputs": [],
   "source": [
    "# print the unique values in 'Broad.phase.of.flight' to inspect placeholder or unclear entries\n",
    "print(air_df['Broad.phase.of.flight'].unique())\n",
    "\n",
    "# replace placeholder categories like 'Unknown' and 'Other' with NaN\n",
    "# This prevents vague categories from skewing analysis\n",
    "air_df['Broad.phase.of.flight'].replace({'Unknown': np.nan, 'Other': np.nan}, inplace=True)\n",
    "\n",
    "# display cleaned value counts to verify the result\n",
    "print(air_df['Broad.phase.of.flight'].value_counts())"
   ]
  },
  {
   "cell_type": "markdown",
   "id": "12ad63d9",
   "metadata": {},
   "source": [
    "### Column Removal\n",
    "- inspect the dataframe and drop any columns that have too many NaNs"
   ]
  },
  {
   "cell_type": "code",
   "execution_count": null,
   "id": "8a8a2cd4-fe2f-4705-8e09-bfd8033adf2e",
   "metadata": {},
   "outputs": [],
   "source": [
    "air_df.info()"
   ]
  },
  {
   "cell_type": "code",
   "execution_count": null,
   "id": "7b758e30-45f2-4e0a-b286-486059321b4c",
   "metadata": {},
   "outputs": [],
   "source": [
    "# some valid column removals are 'FAR.Description', 'Air.carrier', and 'Schedule'\n",
    "# these columns may contain too many missing values or offer little analytical value for the problem at hand\n",
    "air_df = air_df.drop(columns=['FAR.Description', 'Air.carrier', 'Schedule'])\n",
    "print(air_df.columns.tolist())"
   ]
  },
  {
   "cell_type": "markdown",
   "id": "750d48f1",
   "metadata": {},
   "source": [
    "### Save DataFrame to csv\n",
    "- its generally useful to save data to file/server after its in a sufficiently cleaned or intermediate state\n",
    "- the data can then be loaded directly in another notebook for further analysis\n",
    "- this helps keep your notebooks and workflow readable, clean and modularized"
   ]
  },
  {
   "cell_type": "code",
   "execution_count": null,
   "id": "7f706b8c-35df-497b-b486-76084e91bb97",
   "metadata": {},
   "outputs": [],
   "source": [
    "air_df.to_csv('cleaned_aviation_data.csv', index=False)"
   ]
  },
  {
   "cell_type": "markdown",
   "id": "9b5cc758-fecd-4675-8b0e-fb3e64f612cd",
   "metadata": {},
   "source": [
    "#### "
   ]
  }
 ],
 "metadata": {
  "kernelspec": {
   "display_name": "Python (learn-env)",
   "language": "python",
   "name": "learn-env"
  },
  "language_info": {
   "codemirror_mode": {
    "name": "ipython",
    "version": 3
   },
   "file_extension": ".py",
   "mimetype": "text/x-python",
   "name": "python",
   "nbconvert_exporter": "python",
   "pygments_lexer": "ipython3",
   "version": "3.12.4"
  }
 },
 "nbformat": 4,
 "nbformat_minor": 5
}
